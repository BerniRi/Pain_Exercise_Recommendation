{
 "cells": [
  {
   "cell_type": "code",
   "execution_count": 2,
   "metadata": {},
   "outputs": [],
   "source": [
    "#!pip install EdgeGPT"
   ]
  },
  {
   "cell_type": "code",
   "execution_count": 3,
   "metadata": {},
   "outputs": [],
   "source": [
    "import asyncio, json\n",
    "from EdgeGPT.EdgeGPT import Chatbot, ConversationStyle\n",
    "import os"
   ]
  },
  {
   "cell_type": "code",
   "execution_count": 4,
   "metadata": {},
   "outputs": [],
   "source": [
    "promt = \"List some physical exercises for \"\n",
    "\n",
    "problems = ['stress', 'joint pain', 'Cardiovascular']\n",
    "\n",
    "jsonList = []"
   ]
  },
  {
   "cell_type": "code",
   "execution_count": 5,
   "metadata": {},
   "outputs": [],
   "source": [
    "\n",
    "async def requestBingChat(problem):\n",
    "    print(problem)\n",
    "    bot = await Chatbot.create() # Passing cookies is \"optional\", as explained above\n",
    "    response = await bot.ask(prompt=promt + problem + '. Only show the list of 8 elements. Only use scientific sources.', \n",
    "                             conversation_style=ConversationStyle.precise, \n",
    "                             simplify_response=True)\n",
    "    print(response)\n",
    "\n",
    "    for source in response['sources']:\n",
    "        source.pop('imageFavicon', None)\n",
    "        source.pop('imageLink', None)\n",
    "        source.pop('imageWidth', None)\n",
    "        source.pop('imageHeight', None)\n",
    "    \n",
    "    js = json.dumps(response, indent=2)\n",
    "    jsonList.append(js)\n",
    "    print(js) # Returns\n",
    "    \"\"\"\n",
    "    {\n",
    "        \"text\": str\n",
    "        \"author\": str\n",
    "        \"sources\": list[dict]\n",
    "        \"sources_text\": str\n",
    "        \"suggestions\": list[str]\n",
    "        \"messages_left\": int\n",
    "    }\n",
    "    \"\"\"\n",
    "    await bot.close()   "
   ]
  },
  {
   "cell_type": "code",
   "execution_count": 6,
   "metadata": {},
   "outputs": [
    {
     "name": "stdout",
     "output_type": "stream",
     "text": [
      "stress\n",
      "{'text': \"Here is a list of 8 physical exercises that have been scientifically proven to reduce stress and anxiety:\\n1. Jogging [^1^]\\n2. Swimming [^1^]\\n3. Cycling [^1^]\\n4. Walking [^1^]\\n5. Gardening [^1^]\\n6. Dancing [^1^]\\n7. Yoga [^4^]\\n8. Strength training [^4^]\\n\\nThese exercises have been shown to reduce anxiety and depression by increasing blood circulation to the brain and influencing the hypothalamic-pituitary-adrenal (HPA) axis, which controls the body's physiological reactivity to stress[^1^].\", 'author': 'bot', 'sources': [{'providerDisplayName': 'Exercise for Mental Health - PMC - National Center for Biotechnology ...', 'seeMoreUrl': 'https://www.ncbi.nlm.nih.gov/pmc/articles/PMC1470658/', 'searchQuery': 'physical exercises for stress scientific sources'}, {'providerDisplayName': 'How to reduce stress through exercise | CNN', 'seeMoreUrl': 'https://www.cnn.com/2023/03/31/health/exercises-to-reduce-stress-wellness/index.html', 'searchQuery': 'physical exercises for stress scientific sources'}, {'providerDisplayName': 'Exercising to Relax - Harvard Health Publishing - Harvard Health', 'seeMoreUrl': 'https://www.health.harvard.edu/staying-healthy/exercising-to-relax', 'imageLink': 'https://bing.com/th?id=OIP.kEFUox9V5eWzRl1q6-Iz2gHaE8&pid=cdx', 'imageWidth': '1600', 'imageHeight': '1068', 'imageFavicon': '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', 'searchQuery': 'physical exercises for stress scientific sources'}, {'providerDisplayName': 'Working out boosts brain health - American Psychological Association (APA)', 'seeMoreUrl': 'https://www.apa.org/topics/exercise-fitness/stress', 'imageLink': 'https://bing.com/th?id=OIP.DVioZS1L6o6g1L06m1ttlgAAAA&pid=cdx', 'imageWidth': '474', 'imageHeight': '243', 'imageFavicon': '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', 'searchQuery': 'physical exercises for stress scientific sources'}, {'providerDisplayName': 'Exercise and stress: Get moving to manage stress - Mayo Clinic', 'seeMoreUrl': 'https://www.mayoclinic.org/healthy-lifestyle/stress-management/in-depth/exercise-and-stress/art-20044469', 'searchQuery': 'physical exercises for stress scientific sources'}], 'sources_text': 'Learn more: [1. www.ncbi.nlm.nih.gov](https://www.ncbi.nlm.nih.gov/pmc/articles/PMC1470658/) [2. www.cnn.com](https://www.cnn.com/2023/03/31/health/exercises-to-reduce-stress-wellness/index.html) [3. www.health.harvard.edu](https://www.health.harvard.edu/staying-healthy/exercising-to-relax) [4. www.apa.org](https://www.apa.org/topics/exercise-fitness/stress) [5. www.mayoclinic.org](https://www.mayoclinic.org/healthy-lifestyle/stress-management/in-depth/exercise-and-stress/art-20044469)', 'suggestions': ['How does exercise reduce stress?', 'How often should I exercise?', 'What are some other benefits of exercise?'], 'messages_left': 9, 'adaptive_text': '[1]: https://www.ncbi.nlm.nih.gov/pmc/articles/PMC1470658/ \"Exercise for Mental Health - PMC - National Center for Biotechnology ...\"\\n[2]: https://www.health.harvard.edu/staying-healthy/exercising-to-relax \"Exercising to Relax - Harvard Health Publishing - Harvard Health\"\\n[3]: https://www.apa.org/topics/exercise-fitness/stress \"Working out boosts brain health - American Psychological Association (APA)\"\\n[4]: https://www.cnn.com/2023/03/31/health/exercises-to-reduce-stress-wellness/index.html \"How to reduce stress through exercise | CNN\"\\n[5]: https://www.mayoclinic.org/healthy-lifestyle/stress-management/in-depth/exercise-and-stress/art-20044469 \"Exercise and stress: Get moving to manage stress - Mayo Clinic\"\\n\\nHere is a list of 8 physical exercises that have been scientifically proven to reduce stress and anxiety:\\n1. Jogging [^1^][1]\\n2. Swimming [^1^][1]\\n3. Cycling [^1^][1]\\n4. Walking [^1^][1]\\n5. Gardening [^1^][1]\\n6. Dancing [^1^][1]\\n7. Yoga [^2^][4]\\n8. Strength training [^2^][4]\\n\\nThese exercises have been shown to reduce anxiety and depression by increasing blood circulation to the brain and influencing the hypothalamic-pituitary-adrenal (HPA) axis, which controls the body\\'s physiological reactivity to stress[^1^][1].\\n'}\n",
      "{\n",
      "  \"text\": \"Here is a list of 8 physical exercises that have been scientifically proven to reduce stress and anxiety:\\n1. Jogging [^1^]\\n2. Swimming [^1^]\\n3. Cycling [^1^]\\n4. Walking [^1^]\\n5. Gardening [^1^]\\n6. Dancing [^1^]\\n7. Yoga [^4^]\\n8. Strength training [^4^]\\n\\nThese exercises have been shown to reduce anxiety and depression by increasing blood circulation to the brain and influencing the hypothalamic-pituitary-adrenal (HPA) axis, which controls the body's physiological reactivity to stress[^1^].\",\n",
      "  \"author\": \"bot\",\n",
      "  \"sources\": [\n",
      "    {\n",
      "      \"providerDisplayName\": \"Exercise for Mental Health - PMC - National Center for Biotechnology ...\",\n",
      "      \"seeMoreUrl\": \"https://www.ncbi.nlm.nih.gov/pmc/articles/PMC1470658/\",\n",
      "      \"searchQuery\": \"physical exercises for stress scientific sources\"\n",
      "    },\n",
      "    {\n",
      "      \"providerDisplayName\": \"How to reduce stress through exercise | CNN\",\n",
      "      \"seeMoreUrl\": \"https://www.cnn.com/2023/03/31/health/exercises-to-reduce-stress-wellness/index.html\",\n",
      "      \"searchQuery\": \"physical exercises for stress scientific sources\"\n",
      "    },\n",
      "    {\n",
      "      \"providerDisplayName\": \"Exercising to Relax - Harvard Health Publishing - Harvard Health\",\n",
      "      \"seeMoreUrl\": \"https://www.health.harvard.edu/staying-healthy/exercising-to-relax\",\n",
      "      \"searchQuery\": \"physical exercises for stress scientific sources\"\n",
      "    },\n",
      "    {\n",
      "      \"providerDisplayName\": \"Working out boosts brain health - American Psychological Association (APA)\",\n",
      "      \"seeMoreUrl\": \"https://www.apa.org/topics/exercise-fitness/stress\",\n",
      "      \"searchQuery\": \"physical exercises for stress scientific sources\"\n",
      "    },\n",
      "    {\n",
      "      \"providerDisplayName\": \"Exercise and stress: Get moving to manage stress - Mayo Clinic\",\n",
      "      \"seeMoreUrl\": \"https://www.mayoclinic.org/healthy-lifestyle/stress-management/in-depth/exercise-and-stress/art-20044469\",\n",
      "      \"searchQuery\": \"physical exercises for stress scientific sources\"\n",
      "    }\n",
      "  ],\n",
      "  \"sources_text\": \"Learn more: [1. www.ncbi.nlm.nih.gov](https://www.ncbi.nlm.nih.gov/pmc/articles/PMC1470658/) [2. www.cnn.com](https://www.cnn.com/2023/03/31/health/exercises-to-reduce-stress-wellness/index.html) [3. www.health.harvard.edu](https://www.health.harvard.edu/staying-healthy/exercising-to-relax) [4. www.apa.org](https://www.apa.org/topics/exercise-fitness/stress) [5. www.mayoclinic.org](https://www.mayoclinic.org/healthy-lifestyle/stress-management/in-depth/exercise-and-stress/art-20044469)\",\n",
      "  \"suggestions\": [\n",
      "    \"How does exercise reduce stress?\",\n",
      "    \"How often should I exercise?\",\n",
      "    \"What are some other benefits of exercise?\"\n",
      "  ],\n",
      "  \"messages_left\": 9,\n",
      "  \"adaptive_text\": \"[1]: https://www.ncbi.nlm.nih.gov/pmc/articles/PMC1470658/ \\\"Exercise for Mental Health - PMC - National Center for Biotechnology ...\\\"\\n[2]: https://www.health.harvard.edu/staying-healthy/exercising-to-relax \\\"Exercising to Relax - Harvard Health Publishing - Harvard Health\\\"\\n[3]: https://www.apa.org/topics/exercise-fitness/stress \\\"Working out boosts brain health - American Psychological Association (APA)\\\"\\n[4]: https://www.cnn.com/2023/03/31/health/exercises-to-reduce-stress-wellness/index.html \\\"How to reduce stress through exercise | CNN\\\"\\n[5]: https://www.mayoclinic.org/healthy-lifestyle/stress-management/in-depth/exercise-and-stress/art-20044469 \\\"Exercise and stress: Get moving to manage stress - Mayo Clinic\\\"\\n\\nHere is a list of 8 physical exercises that have been scientifically proven to reduce stress and anxiety:\\n1. Jogging [^1^][1]\\n2. Swimming [^1^][1]\\n3. Cycling [^1^][1]\\n4. Walking [^1^][1]\\n5. Gardening [^1^][1]\\n6. Dancing [^1^][1]\\n7. Yoga [^2^][4]\\n8. Strength training [^2^][4]\\n\\nThese exercises have been shown to reduce anxiety and depression by increasing blood circulation to the brain and influencing the hypothalamic-pituitary-adrenal (HPA) axis, which controls the body's physiological reactivity to stress[^1^][1].\\n\"\n",
      "}\n",
      "joint pain\n",
      "{'text': 'Here are some physical exercises that can help with joint pain according to scientific sources:\\n\\n1. **Exercises that put joints through their full range of motion**[^1^]\\n2. **Strengthening exercises**[^1^]\\n3. **Aerobic exercise**[^1^]\\n4. **Walking**[^2^]\\n5. **Biking**[^2^]\\n6. **Swimming**[^2^]\\n7. **Water aerobics**[^2^]\\n8. **Light gardening**[^2^]\\n\\nThese exercises are considered joint-friendly and can improve arthritis pain, function, mood, and quality of life [^2^].', 'author': 'bot', 'sources': [{'providerDisplayName': 'Exercising with arthritis: Improve your joint pain and stiffness - Mayo ...', 'seeMoreUrl': 'https://www.mayoclinic.org/diseases-conditions/arthritis/in-depth/arthritis/art-20047971', 'searchQuery': 'physical exercises for joint pain scientific sources'}, {'providerDisplayName': 'Physical Activity for Arthritis | CDC', 'seeMoreUrl': 'https://www.cdc.gov/arthritis/basics/physical-activity/index.html', 'searchQuery': 'physical exercises for joint pain scientific sources'}, {'providerDisplayName': 'Physical activity and exercise for chronic pain in adults: an overview ...', 'seeMoreUrl': 'https://www.ncbi.nlm.nih.gov/pmc/articles/PMC5461882/', 'searchQuery': 'physical exercises for joint pain scientific sources'}], 'sources_text': 'Learn more: [1. www.mayoclinic.org](https://www.mayoclinic.org/diseases-conditions/arthritis/in-depth/arthritis/art-20047971) [2. www.cdc.gov](https://www.cdc.gov/arthritis/basics/physical-activity/index.html) [3. www.ncbi.nlm.nih.gov](https://www.ncbi.nlm.nih.gov/pmc/articles/PMC5461882/)', 'suggestions': ['How often should I do these exercises?', 'What are some other joint-friendly activities?', 'What are some precautions I should take while exercising?'], 'messages_left': 9, 'adaptive_text': '[1]: https://www.mayoclinic.org/diseases-conditions/arthritis/in-depth/arthritis/art-20047971 \"Exercising with arthritis: Improve your joint pain and stiffness - Mayo ...\"\\n[2]: https://www.cdc.gov/arthritis/basics/physical-activity/index.html \"Physical Activity for Arthritis | CDC\"\\n[3]: https://www.ncbi.nlm.nih.gov/pmc/articles/PMC5461882/ \"Physical activity and exercise for chronic pain in adults: an overview ...\"\\n\\nHere are some physical exercises that can help with joint pain according to scientific sources:\\n\\n1. **Exercises that put joints through their full range of motion**[^1^][1]\\n2. **Strengthening exercises**[^1^][1]\\n3. **Aerobic exercise**[^1^][1]\\n4. **Walking**[^2^][2]\\n5. **Biking**[^2^][2]\\n6. **Swimming**[^2^][2]\\n7. **Water aerobics**[^2^][2]\\n8. **Light gardening**[^2^][2]\\n\\nThese exercises are considered joint-friendly and can improve arthritis pain, function, mood, and quality of life [^2^][2].\\n'}\n",
      "{\n",
      "  \"text\": \"Here are some physical exercises that can help with joint pain according to scientific sources:\\n\\n1. **Exercises that put joints through their full range of motion**[^1^]\\n2. **Strengthening exercises**[^1^]\\n3. **Aerobic exercise**[^1^]\\n4. **Walking**[^2^]\\n5. **Biking**[^2^]\\n6. **Swimming**[^2^]\\n7. **Water aerobics**[^2^]\\n8. **Light gardening**[^2^]\\n\\nThese exercises are considered joint-friendly and can improve arthritis pain, function, mood, and quality of life [^2^].\",\n",
      "  \"author\": \"bot\",\n",
      "  \"sources\": [\n",
      "    {\n",
      "      \"providerDisplayName\": \"Exercising with arthritis: Improve your joint pain and stiffness - Mayo ...\",\n",
      "      \"seeMoreUrl\": \"https://www.mayoclinic.org/diseases-conditions/arthritis/in-depth/arthritis/art-20047971\",\n",
      "      \"searchQuery\": \"physical exercises for joint pain scientific sources\"\n",
      "    },\n",
      "    {\n",
      "      \"providerDisplayName\": \"Physical Activity for Arthritis | CDC\",\n",
      "      \"seeMoreUrl\": \"https://www.cdc.gov/arthritis/basics/physical-activity/index.html\",\n",
      "      \"searchQuery\": \"physical exercises for joint pain scientific sources\"\n",
      "    },\n",
      "    {\n",
      "      \"providerDisplayName\": \"Physical activity and exercise for chronic pain in adults: an overview ...\",\n",
      "      \"seeMoreUrl\": \"https://www.ncbi.nlm.nih.gov/pmc/articles/PMC5461882/\",\n",
      "      \"searchQuery\": \"physical exercises for joint pain scientific sources\"\n",
      "    }\n",
      "  ],\n",
      "  \"sources_text\": \"Learn more: [1. www.mayoclinic.org](https://www.mayoclinic.org/diseases-conditions/arthritis/in-depth/arthritis/art-20047971) [2. www.cdc.gov](https://www.cdc.gov/arthritis/basics/physical-activity/index.html) [3. www.ncbi.nlm.nih.gov](https://www.ncbi.nlm.nih.gov/pmc/articles/PMC5461882/)\",\n",
      "  \"suggestions\": [\n",
      "    \"How often should I do these exercises?\",\n",
      "    \"What are some other joint-friendly activities?\",\n",
      "    \"What are some precautions I should take while exercising?\"\n",
      "  ],\n",
      "  \"messages_left\": 9,\n",
      "  \"adaptive_text\": \"[1]: https://www.mayoclinic.org/diseases-conditions/arthritis/in-depth/arthritis/art-20047971 \\\"Exercising with arthritis: Improve your joint pain and stiffness - Mayo ...\\\"\\n[2]: https://www.cdc.gov/arthritis/basics/physical-activity/index.html \\\"Physical Activity for Arthritis | CDC\\\"\\n[3]: https://www.ncbi.nlm.nih.gov/pmc/articles/PMC5461882/ \\\"Physical activity and exercise for chronic pain in adults: an overview ...\\\"\\n\\nHere are some physical exercises that can help with joint pain according to scientific sources:\\n\\n1. **Exercises that put joints through their full range of motion**[^1^][1]\\n2. **Strengthening exercises**[^1^][1]\\n3. **Aerobic exercise**[^1^][1]\\n4. **Walking**[^2^][2]\\n5. **Biking**[^2^][2]\\n6. **Swimming**[^2^][2]\\n7. **Water aerobics**[^2^][2]\\n8. **Light gardening**[^2^][2]\\n\\nThese exercises are considered joint-friendly and can improve arthritis pain, function, mood, and quality of life [^2^][2].\\n\"\n",
      "}\n",
      "Cardiovascular\n",
      "{'text': 'Here are some common cardiovascular exercises from scientific sources:\\n1. Brisk walking[^3^]\\n2. Running[^3^]\\n3. Cycling[^3^]\\n4. Swimming[^3^]\\n5. Rowing[^3^]\\n6. Cross-country skiing[^3^]\\n7. Elliptical trainer[^3^]\\n8. Stationary cycle[^3^]\\n\\nIs there anything else you would like to know?.', 'author': 'bot', 'sources': [{'providerDisplayName': 'Cardiovascular Exercise - How to Do it Right - Verywell Fit', 'seeMoreUrl': 'https://www.verywellfit.com/cardiovascular-exercise-principles-and-guidelines-3432613', 'searchQuery': 'cardiovascular exercises scientific sources'}, {'providerDisplayName': 'Cardiovascular Effects and Benefits of Exercise - PMC', 'seeMoreUrl': 'https://www.ncbi.nlm.nih.gov/pmc/articles/PMC6172294/', 'searchQuery': 'cardiovascular exercises scientific sources'}, {'providerDisplayName': 'Exercise and the Cardiovascular System | Circulation Research', 'seeMoreUrl': 'https://www.ahajournals.org/doi/full/10.1161/circresaha.117.305205', 'imageLink': 'https://bing.com/th?id=OIP.4-puiHAro8jYYeVlvFFCkQHaEP&pid=cdx', 'imageWidth': '1800', 'imageHeight': '1030', 'imageFavicon': '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', 'searchQuery': 'cardiovascular exercises scientific sources'}, {'providerDisplayName': 'Benefits of a Cardio Workout – Cleveland Clinic', 'seeMoreUrl': 'https://health.clevelandclinic.org/the-many-benefits-of-a-cardio-workout/', 'imageLink': 'https://bing.com/th?id=OIP.WKPdQ_0Nk_64lJx7uVhlaQHaE4&pid=cdx', 'imageWidth': '650', 'imageHeight': '428', 'imageFavicon': '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', 'searchQuery': 'cardiovascular exercises scientific sources'}, {'providerDisplayName': 'Exercise & Fitness - Harvard Health', 'seeMoreUrl': 'https://www.health.harvard.edu/topics/exercise-and-fitness', 'searchQuery': 'cardiovascular exercises scientific sources'}], 'sources_text': 'Learn more: [1. www.verywellfit.com](https://www.verywellfit.com/cardiovascular-exercise-principles-and-guidelines-3432613) [2. www.ncbi.nlm.nih.gov](https://www.ncbi.nlm.nih.gov/pmc/articles/PMC6172294/) [3. www.ahajournals.org](https://www.ahajournals.org/doi/full/10.1161/circresaha.117.305205) [4. health.clevelandclinic.org](https://health.clevelandclinic.org/the-many-benefits-of-a-cardio-workout/) [5. www.health.harvard.edu](https://www.health.harvard.edu/topics/exercise-and-fitness)', 'suggestions': ['What are the benefits of cardiovascular exercise?', 'How often should I do cardiovascular exercise?', 'What is the difference between cardiovascular and strength training?'], 'messages_left': 9, 'adaptive_text': '[1]: https://www.ncbi.nlm.nih.gov/pmc/articles/PMC6172294/ \"Cardiovascular Effects and Benefits of Exercise - PMC\"\\n[2]: https://www.ahajournals.org/doi/full/10.1161/circresaha.117.305205 \"Exercise and the Cardiovascular System | Circulation Research\"\\n[3]: https://www.verywellfit.com/cardiovascular-exercise-principles-and-guidelines-3432613 \"Cardiovascular Exercise - How to Do it Right - Verywell Fit\"\\n[4]: https://health.clevelandclinic.org/the-many-benefits-of-a-cardio-workout/ \"Benefits of a Cardio Workout – Cleveland Clinic\"\\n[5]: https://www.health.harvard.edu/topics/exercise-and-fitness \"Exercise & Fitness - Harvard Health\"\\n\\nHere are some common cardiovascular exercises from scientific sources:\\n1. Brisk walking[^1^][3]\\n2. Running[^1^][3]\\n3. Cycling[^1^][3]\\n4. Swimming[^1^][3]\\n5. Rowing[^1^][3]\\n6. Cross-country skiing[^1^][3]\\n7. Elliptical trainer[^1^][3]\\n8. Stationary cycle[^1^][3]\\n\\nIs there anything else you would like to know?\\n'}\n",
      "{\n",
      "  \"text\": \"Here are some common cardiovascular exercises from scientific sources:\\n1. Brisk walking[^3^]\\n2. Running[^3^]\\n3. Cycling[^3^]\\n4. Swimming[^3^]\\n5. Rowing[^3^]\\n6. Cross-country skiing[^3^]\\n7. Elliptical trainer[^3^]\\n8. Stationary cycle[^3^]\\n\\nIs there anything else you would like to know?.\",\n",
      "  \"author\": \"bot\",\n",
      "  \"sources\": [\n",
      "    {\n",
      "      \"providerDisplayName\": \"Cardiovascular Exercise - How to Do it Right - Verywell Fit\",\n",
      "      \"seeMoreUrl\": \"https://www.verywellfit.com/cardiovascular-exercise-principles-and-guidelines-3432613\",\n",
      "      \"searchQuery\": \"cardiovascular exercises scientific sources\"\n",
      "    },\n",
      "    {\n",
      "      \"providerDisplayName\": \"Cardiovascular Effects and Benefits of Exercise - PMC\",\n",
      "      \"seeMoreUrl\": \"https://www.ncbi.nlm.nih.gov/pmc/articles/PMC6172294/\",\n",
      "      \"searchQuery\": \"cardiovascular exercises scientific sources\"\n",
      "    },\n",
      "    {\n",
      "      \"providerDisplayName\": \"Exercise and the Cardiovascular System | Circulation Research\",\n",
      "      \"seeMoreUrl\": \"https://www.ahajournals.org/doi/full/10.1161/circresaha.117.305205\",\n",
      "      \"searchQuery\": \"cardiovascular exercises scientific sources\"\n",
      "    },\n",
      "    {\n",
      "      \"providerDisplayName\": \"Benefits of a Cardio Workout \\u2013 Cleveland Clinic\",\n",
      "      \"seeMoreUrl\": \"https://health.clevelandclinic.org/the-many-benefits-of-a-cardio-workout/\",\n",
      "      \"searchQuery\": \"cardiovascular exercises scientific sources\"\n",
      "    },\n",
      "    {\n",
      "      \"providerDisplayName\": \"Exercise & Fitness - Harvard Health\",\n",
      "      \"seeMoreUrl\": \"https://www.health.harvard.edu/topics/exercise-and-fitness\",\n",
      "      \"searchQuery\": \"cardiovascular exercises scientific sources\"\n",
      "    }\n",
      "  ],\n",
      "  \"sources_text\": \"Learn more: [1. www.verywellfit.com](https://www.verywellfit.com/cardiovascular-exercise-principles-and-guidelines-3432613) [2. www.ncbi.nlm.nih.gov](https://www.ncbi.nlm.nih.gov/pmc/articles/PMC6172294/) [3. www.ahajournals.org](https://www.ahajournals.org/doi/full/10.1161/circresaha.117.305205) [4. health.clevelandclinic.org](https://health.clevelandclinic.org/the-many-benefits-of-a-cardio-workout/) [5. www.health.harvard.edu](https://www.health.harvard.edu/topics/exercise-and-fitness)\",\n",
      "  \"suggestions\": [\n",
      "    \"What are the benefits of cardiovascular exercise?\",\n",
      "    \"How often should I do cardiovascular exercise?\",\n",
      "    \"What is the difference between cardiovascular and strength training?\"\n",
      "  ],\n",
      "  \"messages_left\": 9,\n",
      "  \"adaptive_text\": \"[1]: https://www.ncbi.nlm.nih.gov/pmc/articles/PMC6172294/ \\\"Cardiovascular Effects and Benefits of Exercise - PMC\\\"\\n[2]: https://www.ahajournals.org/doi/full/10.1161/circresaha.117.305205 \\\"Exercise and the Cardiovascular System | Circulation Research\\\"\\n[3]: https://www.verywellfit.com/cardiovascular-exercise-principles-and-guidelines-3432613 \\\"Cardiovascular Exercise - How to Do it Right - Verywell Fit\\\"\\n[4]: https://health.clevelandclinic.org/the-many-benefits-of-a-cardio-workout/ \\\"Benefits of a Cardio Workout \\u2013 Cleveland Clinic\\\"\\n[5]: https://www.health.harvard.edu/topics/exercise-and-fitness \\\"Exercise & Fitness - Harvard Health\\\"\\n\\nHere are some common cardiovascular exercises from scientific sources:\\n1. Brisk walking[^1^][3]\\n2. Running[^1^][3]\\n3. Cycling[^1^][3]\\n4. Swimming[^1^][3]\\n5. Rowing[^1^][3]\\n6. Cross-country skiing[^1^][3]\\n7. Elliptical trainer[^1^][3]\\n8. Stationary cycle[^1^][3]\\n\\nIs there anything else you would like to know?\\n\"\n",
      "}\n"
     ]
    }
   ],
   "source": [
    "for problem in problems:\n",
    "    try:\n",
    "        await requestBingChat(problem)\n",
    "    except:\n",
    "        print('Error with ' + problem)\n",
    "        await requestBingChat(problem)"
   ]
  },
  {
   "cell_type": "code",
   "execution_count": 7,
   "metadata": {},
   "outputs": [
    {
     "data": {
      "text/plain": [
       "['{\\n  \"text\": \"Here is a list of 8 physical exercises that have been scientifically proven to reduce stress and anxiety:\\\\n1. Jogging [^1^]\\\\n2. Swimming [^1^]\\\\n3. Cycling [^1^]\\\\n4. Walking [^1^]\\\\n5. Gardening [^1^]\\\\n6. Dancing [^1^]\\\\n7. Yoga [^4^]\\\\n8. Strength training [^4^]\\\\n\\\\nThese exercises have been shown to reduce anxiety and depression by increasing blood circulation to the brain and influencing the hypothalamic-pituitary-adrenal (HPA) axis, which controls the body\\'s physiological reactivity to stress[^1^].\",\\n  \"author\": \"bot\",\\n  \"sources\": [\\n    {\\n      \"providerDisplayName\": \"Exercise for Mental Health - PMC - National Center for Biotechnology ...\",\\n      \"seeMoreUrl\": \"https://www.ncbi.nlm.nih.gov/pmc/articles/PMC1470658/\",\\n      \"searchQuery\": \"physical exercises for stress scientific sources\"\\n    },\\n    {\\n      \"providerDisplayName\": \"How to reduce stress through exercise | CNN\",\\n      \"seeMoreUrl\": \"https://www.cnn.com/2023/03/31/health/exercises-to-reduce-stress-wellness/index.html\",\\n      \"searchQuery\": \"physical exercises for stress scientific sources\"\\n    },\\n    {\\n      \"providerDisplayName\": \"Exercising to Relax - Harvard Health Publishing - Harvard Health\",\\n      \"seeMoreUrl\": \"https://www.health.harvard.edu/staying-healthy/exercising-to-relax\",\\n      \"searchQuery\": \"physical exercises for stress scientific sources\"\\n    },\\n    {\\n      \"providerDisplayName\": \"Working out boosts brain health - American Psychological Association (APA)\",\\n      \"seeMoreUrl\": \"https://www.apa.org/topics/exercise-fitness/stress\",\\n      \"searchQuery\": \"physical exercises for stress scientific sources\"\\n    },\\n    {\\n      \"providerDisplayName\": \"Exercise and stress: Get moving to manage stress - Mayo Clinic\",\\n      \"seeMoreUrl\": \"https://www.mayoclinic.org/healthy-lifestyle/stress-management/in-depth/exercise-and-stress/art-20044469\",\\n      \"searchQuery\": \"physical exercises for stress scientific sources\"\\n    }\\n  ],\\n  \"sources_text\": \"Learn more: [1. www.ncbi.nlm.nih.gov](https://www.ncbi.nlm.nih.gov/pmc/articles/PMC1470658/) [2. www.cnn.com](https://www.cnn.com/2023/03/31/health/exercises-to-reduce-stress-wellness/index.html) [3. www.health.harvard.edu](https://www.health.harvard.edu/staying-healthy/exercising-to-relax) [4. www.apa.org](https://www.apa.org/topics/exercise-fitness/stress) [5. www.mayoclinic.org](https://www.mayoclinic.org/healthy-lifestyle/stress-management/in-depth/exercise-and-stress/art-20044469)\",\\n  \"suggestions\": [\\n    \"How does exercise reduce stress?\",\\n    \"How often should I exercise?\",\\n    \"What are some other benefits of exercise?\"\\n  ],\\n  \"messages_left\": 9,\\n  \"adaptive_text\": \"[1]: https://www.ncbi.nlm.nih.gov/pmc/articles/PMC1470658/ \\\\\"Exercise for Mental Health - PMC - National Center for Biotechnology ...\\\\\"\\\\n[2]: https://www.health.harvard.edu/staying-healthy/exercising-to-relax \\\\\"Exercising to Relax - Harvard Health Publishing - Harvard Health\\\\\"\\\\n[3]: https://www.apa.org/topics/exercise-fitness/stress \\\\\"Working out boosts brain health - American Psychological Association (APA)\\\\\"\\\\n[4]: https://www.cnn.com/2023/03/31/health/exercises-to-reduce-stress-wellness/index.html \\\\\"How to reduce stress through exercise | CNN\\\\\"\\\\n[5]: https://www.mayoclinic.org/healthy-lifestyle/stress-management/in-depth/exercise-and-stress/art-20044469 \\\\\"Exercise and stress: Get moving to manage stress - Mayo Clinic\\\\\"\\\\n\\\\nHere is a list of 8 physical exercises that have been scientifically proven to reduce stress and anxiety:\\\\n1. Jogging [^1^][1]\\\\n2. Swimming [^1^][1]\\\\n3. Cycling [^1^][1]\\\\n4. Walking [^1^][1]\\\\n5. Gardening [^1^][1]\\\\n6. Dancing [^1^][1]\\\\n7. Yoga [^2^][4]\\\\n8. Strength training [^2^][4]\\\\n\\\\nThese exercises have been shown to reduce anxiety and depression by increasing blood circulation to the brain and influencing the hypothalamic-pituitary-adrenal (HPA) axis, which controls the body\\'s physiological reactivity to stress[^1^][1].\\\\n\"\\n}',\n",
       " '{\\n  \"text\": \"Here are some physical exercises that can help with joint pain according to scientific sources:\\\\n\\\\n1. **Exercises that put joints through their full range of motion**[^1^]\\\\n2. **Strengthening exercises**[^1^]\\\\n3. **Aerobic exercise**[^1^]\\\\n4. **Walking**[^2^]\\\\n5. **Biking**[^2^]\\\\n6. **Swimming**[^2^]\\\\n7. **Water aerobics**[^2^]\\\\n8. **Light gardening**[^2^]\\\\n\\\\nThese exercises are considered joint-friendly and can improve arthritis pain, function, mood, and quality of life [^2^].\",\\n  \"author\": \"bot\",\\n  \"sources\": [\\n    {\\n      \"providerDisplayName\": \"Exercising with arthritis: Improve your joint pain and stiffness - Mayo ...\",\\n      \"seeMoreUrl\": \"https://www.mayoclinic.org/diseases-conditions/arthritis/in-depth/arthritis/art-20047971\",\\n      \"searchQuery\": \"physical exercises for joint pain scientific sources\"\\n    },\\n    {\\n      \"providerDisplayName\": \"Physical Activity for Arthritis | CDC\",\\n      \"seeMoreUrl\": \"https://www.cdc.gov/arthritis/basics/physical-activity/index.html\",\\n      \"searchQuery\": \"physical exercises for joint pain scientific sources\"\\n    },\\n    {\\n      \"providerDisplayName\": \"Physical activity and exercise for chronic pain in adults: an overview ...\",\\n      \"seeMoreUrl\": \"https://www.ncbi.nlm.nih.gov/pmc/articles/PMC5461882/\",\\n      \"searchQuery\": \"physical exercises for joint pain scientific sources\"\\n    }\\n  ],\\n  \"sources_text\": \"Learn more: [1. www.mayoclinic.org](https://www.mayoclinic.org/diseases-conditions/arthritis/in-depth/arthritis/art-20047971) [2. www.cdc.gov](https://www.cdc.gov/arthritis/basics/physical-activity/index.html) [3. www.ncbi.nlm.nih.gov](https://www.ncbi.nlm.nih.gov/pmc/articles/PMC5461882/)\",\\n  \"suggestions\": [\\n    \"How often should I do these exercises?\",\\n    \"What are some other joint-friendly activities?\",\\n    \"What are some precautions I should take while exercising?\"\\n  ],\\n  \"messages_left\": 9,\\n  \"adaptive_text\": \"[1]: https://www.mayoclinic.org/diseases-conditions/arthritis/in-depth/arthritis/art-20047971 \\\\\"Exercising with arthritis: Improve your joint pain and stiffness - Mayo ...\\\\\"\\\\n[2]: https://www.cdc.gov/arthritis/basics/physical-activity/index.html \\\\\"Physical Activity for Arthritis | CDC\\\\\"\\\\n[3]: https://www.ncbi.nlm.nih.gov/pmc/articles/PMC5461882/ \\\\\"Physical activity and exercise for chronic pain in adults: an overview ...\\\\\"\\\\n\\\\nHere are some physical exercises that can help with joint pain according to scientific sources:\\\\n\\\\n1. **Exercises that put joints through their full range of motion**[^1^][1]\\\\n2. **Strengthening exercises**[^1^][1]\\\\n3. **Aerobic exercise**[^1^][1]\\\\n4. **Walking**[^2^][2]\\\\n5. **Biking**[^2^][2]\\\\n6. **Swimming**[^2^][2]\\\\n7. **Water aerobics**[^2^][2]\\\\n8. **Light gardening**[^2^][2]\\\\n\\\\nThese exercises are considered joint-friendly and can improve arthritis pain, function, mood, and quality of life [^2^][2].\\\\n\"\\n}',\n",
       " '{\\n  \"text\": \"Here are some common cardiovascular exercises from scientific sources:\\\\n1. Brisk walking[^3^]\\\\n2. Running[^3^]\\\\n3. Cycling[^3^]\\\\n4. Swimming[^3^]\\\\n5. Rowing[^3^]\\\\n6. Cross-country skiing[^3^]\\\\n7. Elliptical trainer[^3^]\\\\n8. Stationary cycle[^3^]\\\\n\\\\nIs there anything else you would like to know?.\",\\n  \"author\": \"bot\",\\n  \"sources\": [\\n    {\\n      \"providerDisplayName\": \"Cardiovascular Exercise - How to Do it Right - Verywell Fit\",\\n      \"seeMoreUrl\": \"https://www.verywellfit.com/cardiovascular-exercise-principles-and-guidelines-3432613\",\\n      \"searchQuery\": \"cardiovascular exercises scientific sources\"\\n    },\\n    {\\n      \"providerDisplayName\": \"Cardiovascular Effects and Benefits of Exercise - PMC\",\\n      \"seeMoreUrl\": \"https://www.ncbi.nlm.nih.gov/pmc/articles/PMC6172294/\",\\n      \"searchQuery\": \"cardiovascular exercises scientific sources\"\\n    },\\n    {\\n      \"providerDisplayName\": \"Exercise and the Cardiovascular System | Circulation Research\",\\n      \"seeMoreUrl\": \"https://www.ahajournals.org/doi/full/10.1161/circresaha.117.305205\",\\n      \"searchQuery\": \"cardiovascular exercises scientific sources\"\\n    },\\n    {\\n      \"providerDisplayName\": \"Benefits of a Cardio Workout \\\\u2013 Cleveland Clinic\",\\n      \"seeMoreUrl\": \"https://health.clevelandclinic.org/the-many-benefits-of-a-cardio-workout/\",\\n      \"searchQuery\": \"cardiovascular exercises scientific sources\"\\n    },\\n    {\\n      \"providerDisplayName\": \"Exercise & Fitness - Harvard Health\",\\n      \"seeMoreUrl\": \"https://www.health.harvard.edu/topics/exercise-and-fitness\",\\n      \"searchQuery\": \"cardiovascular exercises scientific sources\"\\n    }\\n  ],\\n  \"sources_text\": \"Learn more: [1. www.verywellfit.com](https://www.verywellfit.com/cardiovascular-exercise-principles-and-guidelines-3432613) [2. www.ncbi.nlm.nih.gov](https://www.ncbi.nlm.nih.gov/pmc/articles/PMC6172294/) [3. www.ahajournals.org](https://www.ahajournals.org/doi/full/10.1161/circresaha.117.305205) [4. health.clevelandclinic.org](https://health.clevelandclinic.org/the-many-benefits-of-a-cardio-workout/) [5. www.health.harvard.edu](https://www.health.harvard.edu/topics/exercise-and-fitness)\",\\n  \"suggestions\": [\\n    \"What are the benefits of cardiovascular exercise?\",\\n    \"How often should I do cardiovascular exercise?\",\\n    \"What is the difference between cardiovascular and strength training?\"\\n  ],\\n  \"messages_left\": 9,\\n  \"adaptive_text\": \"[1]: https://www.ncbi.nlm.nih.gov/pmc/articles/PMC6172294/ \\\\\"Cardiovascular Effects and Benefits of Exercise - PMC\\\\\"\\\\n[2]: https://www.ahajournals.org/doi/full/10.1161/circresaha.117.305205 \\\\\"Exercise and the Cardiovascular System | Circulation Research\\\\\"\\\\n[3]: https://www.verywellfit.com/cardiovascular-exercise-principles-and-guidelines-3432613 \\\\\"Cardiovascular Exercise - How to Do it Right - Verywell Fit\\\\\"\\\\n[4]: https://health.clevelandclinic.org/the-many-benefits-of-a-cardio-workout/ \\\\\"Benefits of a Cardio Workout \\\\u2013 Cleveland Clinic\\\\\"\\\\n[5]: https://www.health.harvard.edu/topics/exercise-and-fitness \\\\\"Exercise & Fitness - Harvard Health\\\\\"\\\\n\\\\nHere are some common cardiovascular exercises from scientific sources:\\\\n1. Brisk walking[^1^][3]\\\\n2. Running[^1^][3]\\\\n3. Cycling[^1^][3]\\\\n4. Swimming[^1^][3]\\\\n5. Rowing[^1^][3]\\\\n6. Cross-country skiing[^1^][3]\\\\n7. Elliptical trainer[^1^][3]\\\\n8. Stationary cycle[^1^][3]\\\\n\\\\nIs there anything else you would like to know?\\\\n\"\\n}']"
      ]
     },
     "execution_count": 7,
     "metadata": {},
     "output_type": "execute_result"
    }
   ],
   "source": [
    "jsonList\n",
    "# remove imageFavicon from every jsonList element\n"
   ]
  },
  {
   "cell_type": "code",
   "execution_count": 8,
   "metadata": {},
   "outputs": [],
   "source": [
    "# read jsonList from file\n",
    "if os.path.exists('./data/data.json'):\n",
    "    with open('./data/data.json') as json_file:\n",
    "        data = json.load(json_file)\n",
    "    # append jsonList to data\n",
    "    data.append(jsonList)\n",
    "    # write data to file\n",
    "    with open('./data/data.json', 'w') as outfile:\n",
    "        json.dump(data, outfile)\n",
    "else:\n",
    "    # write jsonList to file\n",
    "    with open('./data/data.json', 'w') as outfile:\n",
    "        json.dump(jsonList, outfile)"
   ]
  },
  {
   "cell_type": "code",
   "execution_count": null,
   "metadata": {},
   "outputs": [],
   "source": []
  }
 ],
 "metadata": {
  "kernelspec": {
   "display_name": "Python 3",
   "language": "python",
   "name": "python3"
  },
  "language_info": {
   "codemirror_mode": {
    "name": "ipython",
    "version": 3
   },
   "file_extension": ".py",
   "mimetype": "text/x-python",
   "name": "python",
   "nbconvert_exporter": "python",
   "pygments_lexer": "ipython3",
   "version": "3.11.0"
  },
  "orig_nbformat": 4
 },
 "nbformat": 4,
 "nbformat_minor": 2
}
